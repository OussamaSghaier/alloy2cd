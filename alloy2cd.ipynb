{
 "cells": [
  {
   "cell_type": "markdown",
   "metadata": {},
   "source": [
    "# 1- Alloy2CD: from XML instance"
   ]
  },
  {
   "cell_type": "code",
   "execution_count": 53,
   "metadata": {},
   "outputs": [],
   "source": [
    "#XML library\n",
    "import xml.etree.ElementTree as ET"
   ]
  },
  {
   "cell_type": "code",
   "execution_count": 77,
   "metadata": {},
   "outputs": [],
   "source": [
    "#get the root element\n",
    "root = ET.parse('generatedInstance-1.xml').getroot()"
   ]
  },
  {
   "cell_type": "code",
   "execution_count": 78,
   "metadata": {},
   "outputs": [
    {
     "name": "stderr",
     "output_type": "stream",
     "text": [
      "c:\\users\\oussama\\appdata\\local\\programs\\python\\python37\\lib\\site-packages\\ipykernel_launcher.py:2: DeprecationWarning: This method will be removed in future versions.  Use 'list(elem)' or iteration over elem instead.\n",
      "  \n"
     ]
    }
   ],
   "source": [
    "# get last class diagram\n",
    "cds = [e for e in root.findall('instance/sig') if e.attrib['label']=='this/CD'][0]\n",
    "lastCD = cds.getchildren()[-1].attrib['label']"
   ]
  },
  {
   "cell_type": "code",
   "execution_count": 79,
   "metadata": {},
   "outputs": [
    {
     "name": "stderr",
     "output_type": "stream",
     "text": [
      "c:\\users\\oussama\\appdata\\local\\programs\\python\\python37\\lib\\site-packages\\ipykernel_launcher.py:1: DeprecationWarning: This method will be removed in future versions.  Use 'list(elem)' or iteration over elem instead.\n",
      "  \"\"\"Entry point for launching an IPython kernel.\n",
      "c:\\users\\oussama\\appdata\\local\\programs\\python\\python37\\lib\\site-packages\\ipykernel_launcher.py:3: DeprecationWarning: This method will be removed in future versions.  Use 'list(elem)' or iteration over elem instead.\n",
      "  This is separate from the ipykernel package so we can avoid doing imports until\n"
     ]
    }
   ],
   "source": [
    "# get the list of classes\n",
    "classes = [c for c in root.findall('instance/field') if c.attrib['label']=='classes'][0].getchildren()[:-1]\n",
    "classNames = [c.getchildren()[1].attrib['label'] for c in classes\n",
    "             if c.getchildren()[0].attrib['label']==lastCD]"
   ]
  },
  {
   "cell_type": "code",
   "execution_count": 85,
   "metadata": {},
   "outputs": [
    {
     "name": "stderr",
     "output_type": "stream",
     "text": [
      "c:\\users\\oussama\\appdata\\local\\programs\\python\\python37\\lib\\site-packages\\ipykernel_launcher.py:2: DeprecationWarning: This method will be removed in future versions.  Use 'list(elem)' or iteration over elem instead.\n",
      "  \n",
      "c:\\users\\oussama\\appdata\\local\\programs\\python\\python37\\lib\\site-packages\\ipykernel_launcher.py:5: DeprecationWarning: This method will be removed in future versions.  Use 'list(elem)' or iteration over elem instead.\n",
      "  \"\"\"\n"
     ]
    }
   ],
   "source": [
    "# get the list of fields\n",
    "fieldsElem = [c for c in root.findall('instance/field') if c.attrib['label']=='features'][0].getchildren()[:-1]\n",
    "fields = {}\n",
    "for fe in fieldsElem:\n",
    "    ch = fe.getchildren()\n",
    "    if ch[0].attrib['label'] == lastCD:\n",
    "        c = ch[1].attrib['label'] \n",
    "        f = ch[2].attrib['label'] \n",
    "        t = ch[3].attrib['label']\n",
    "        if c in fields.keys():\n",
    "            fields[c].append({\n",
    "                'fieldName': f,\n",
    "                'fieldType': t.split('type_')[1]\n",
    "            })\n",
    "        else:\n",
    "            fields[c] = [{\n",
    "                'fieldName': f,\n",
    "                'fieldType': t.split('type_')[1]\n",
    "            }]\n",
    "            "
   ]
  },
  {
   "cell_type": "code",
   "execution_count": 95,
   "metadata": {},
   "outputs": [],
   "source": [
    "# get the module name\n",
    "module = [e for e in root.findall('source')][0].attrib['content'].split('module')[1].split('\\n')[0].strip()"
   ]
  },
  {
   "cell_type": "code",
   "execution_count": 120,
   "metadata": {},
   "outputs": [],
   "source": [
    "# output: alloy2cd\n",
    "classesStr = ''\n",
    "for c in classNames:\n",
    "    line = '\\tclass {className}'.format(className=c.split('$')[0])\n",
    "    if not(c in fields.keys()):\n",
    "        classesStr+=(line+';\\n')\n",
    "        continue\n",
    "    fieldsTxt = ''\n",
    "    for f in fields[c]:\n",
    "        fieldsTxt+= f'{f[\"fieldType\"].split(\"$\")[0]} {f[\"fieldName\"].split(\"$\")[0]};'\n",
    "        \n",
    "    line+= f'{{{fieldsTxt}}}'\n",
    "\n",
    "    classesStr+= (line+'\\n')"
   ]
  },
  {
   "cell_type": "code",
   "execution_count": 121,
   "metadata": {},
   "outputs": [
    {
     "data": {
      "text/plain": [
       "'\\tclass Unit{int health;}\\n\\tclass Tank;\\n\\tclass Soldier;\\n'"
      ]
     },
     "execution_count": 121,
     "metadata": {},
     "output_type": "execute_result"
    }
   ],
   "source": [
    "classesStr"
   ]
  },
  {
   "cell_type": "code",
   "execution_count": 130,
   "metadata": {},
   "outputs": [],
   "source": [
    "output = f\"\"\"\n",
    "package alloy2cd.refactoring;\n",
    "\n",
    "classdiagram {module} {{0;\n",
    "\n",
    "{classesStr}\n",
    "  \n",
    "}}\n",
    "\n",
    "\"\"\""
   ]
  },
  {
   "cell_type": "code",
   "execution_count": 131,
   "metadata": {},
   "outputs": [
    {
     "name": "stdout",
     "output_type": "stream",
     "text": [
      "\n",
      "package alloy2cd.refactoring;\n",
      "\n",
      "classdiagram umlp2alloy/CD2Alloy4CDModule {\n",
      "\n",
      "\tclass Unit{int health;}\n",
      "\tclass Tank;\n",
      "\tclass Soldier;\n",
      "\n",
      "  \n",
      "}\n",
      "\n",
      "\n"
     ]
    }
   ],
   "source": [
    "print(output)"
   ]
  },
  {
   "cell_type": "code",
   "execution_count": 137,
   "metadata": {},
   "outputs": [],
   "source": [
    "# Write output to file\n",
    "path = r'D:\\Eclipse\\eclipse-epsilon-1.5-win32-x86_64\\eclipse\\workspace\\SoftwareAnalysisProject\\resources\\Alloy2CdRefactored.cd'\n",
    "file = open(path, \"w\")\n",
    "file.write(output)\n",
    "file.close()"
   ]
  },
  {
   "cell_type": "code",
   "execution_count": null,
   "metadata": {},
   "outputs": [],
   "source": []
  },
  {
   "cell_type": "markdown",
   "metadata": {},
   "source": [
    "# 2- Alloy2CD: from alloy source code"
   ]
  },
  {
   "cell_type": "code",
   "execution_count": 363,
   "metadata": {},
   "outputs": [],
   "source": [
    "import re\n",
    "import pandas as pd"
   ]
  },
  {
   "cell_type": "code",
   "execution_count": 364,
   "metadata": {},
   "outputs": [],
   "source": [
    "filename = \"example-1.als\"\n",
    "lines = \"\""
   ]
  },
  {
   "cell_type": "code",
   "execution_count": 365,
   "metadata": {},
   "outputs": [
    {
     "name": "stdout",
     "output_type": "stream",
     "text": [
      "module alloy2cd\n",
      "\n",
      "open util/boolean\n",
      "\n",
      "\n",
      "abstract sig Vehicle   {\n",
      "}\n",
      "\n",
      "sig Car extends Vehicle {\n",
      "\twheels: some Wheel,\n",
      "\tisdeflated: Bool\n",
      "}\n",
      "\n",
      "one sig Person {\n",
      "\tname: String,\n",
      "\tage: Int, \n",
      "\tcars: some Car\n",
      "}\n",
      "\n",
      "\n",
      "sig Wheel  {\n",
      "\tcars: one Car\n",
      "}\n",
      "\n",
      "pred exp {\n",
      "\t all p: Person | p.name in (\"John\" + \"Paul\" + \"Michael\")\n",
      "} run exp for 3\n",
      "\n"
     ]
    }
   ],
   "source": [
    "with open(filename, \"r\") as f:\n",
    "    lines = f.read()\n",
    "print(lines)  "
   ]
  },
  {
   "cell_type": "code",
   "execution_count": 366,
   "metadata": {},
   "outputs": [],
   "source": [
    "# find package\n",
    "module = re.findall('\\s*module\\s+(\\w+)', lines)[0]"
   ]
  },
  {
   "cell_type": "code",
   "execution_count": 367,
   "metadata": {},
   "outputs": [
    {
     "data": {
      "text/plain": [
       "'alloy2cd'"
      ]
     },
     "execution_count": 367,
     "metadata": {},
     "output_type": "execute_result"
    }
   ],
   "source": [
    "module"
   ]
  },
  {
   "cell_type": "code",
   "execution_count": 368,
   "metadata": {},
   "outputs": [],
   "source": [
    "# find sigs\n",
    "sigs = re.findall('(\\w*)(\\w*)\\s*sig\\s+(\\w+)\\s+(?:extends)?\\s*(\\w+)?\\s*\\{([^{]+)\\}', lines)"
   ]
  },
  {
   "cell_type": "code",
   "execution_count": 369,
   "metadata": {},
   "outputs": [
    {
     "data": {
      "text/plain": [
       "[('abstract', '', 'Vehicle', '', '\\n'),\n",
       " ('', '', 'Car', 'Vehicle', '\\n\\twheels: some Wheel,\\n\\tisdeflated: Bool\\n'),\n",
       " ('one',\n",
       "  '',\n",
       "  'Person',\n",
       "  '',\n",
       "  '\\n\\tname: String,\\n\\tage: Int, \\n\\tcars: some Car\\n'),\n",
       " ('', '', 'Wheel', '', '\\n\\tcars: one Car\\n')]"
      ]
     },
     "execution_count": 369,
     "metadata": {},
     "output_type": "execute_result"
    }
   ],
   "source": [
    "sigs"
   ]
  },
  {
   "cell_type": "code",
   "execution_count": 370,
   "metadata": {},
   "outputs": [
    {
     "data": {
      "text/html": [
       "<div>\n",
       "<style scoped>\n",
       "    .dataframe tbody tr th:only-of-type {\n",
       "        vertical-align: middle;\n",
       "    }\n",
       "\n",
       "    .dataframe tbody tr th {\n",
       "        vertical-align: top;\n",
       "    }\n",
       "\n",
       "    .dataframe thead th {\n",
       "        text-align: right;\n",
       "    }\n",
       "</style>\n",
       "<table border=\"1\" class=\"dataframe\">\n",
       "  <thead>\n",
       "    <tr style=\"text-align: right;\">\n",
       "      <th></th>\n",
       "      <th>0</th>\n",
       "      <th>1</th>\n",
       "      <th>2</th>\n",
       "      <th>3</th>\n",
       "      <th>4</th>\n",
       "    </tr>\n",
       "  </thead>\n",
       "  <tbody>\n",
       "    <tr>\n",
       "      <th>0</th>\n",
       "      <td>abstract</td>\n",
       "      <td></td>\n",
       "      <td>Vehicle</td>\n",
       "      <td></td>\n",
       "      <td>\\n</td>\n",
       "    </tr>\n",
       "    <tr>\n",
       "      <th>1</th>\n",
       "      <td></td>\n",
       "      <td></td>\n",
       "      <td>Car</td>\n",
       "      <td>Vehicle</td>\n",
       "      <td>\\n\\twheels: some Wheel,\\n\\tisdeflated: Bool\\n</td>\n",
       "    </tr>\n",
       "    <tr>\n",
       "      <th>2</th>\n",
       "      <td>one</td>\n",
       "      <td></td>\n",
       "      <td>Person</td>\n",
       "      <td></td>\n",
       "      <td>\\n\\tname: String,\\n\\tage: Int, \\n\\tcars: some ...</td>\n",
       "    </tr>\n",
       "    <tr>\n",
       "      <th>3</th>\n",
       "      <td></td>\n",
       "      <td></td>\n",
       "      <td>Wheel</td>\n",
       "      <td></td>\n",
       "      <td>\\n\\tcars: one Car\\n</td>\n",
       "    </tr>\n",
       "  </tbody>\n",
       "</table>\n",
       "</div>"
      ],
      "text/plain": [
       "          0 1        2        3  \\\n",
       "0  abstract    Vehicle            \n",
       "1                  Car  Vehicle   \n",
       "2       one     Person            \n",
       "3                Wheel            \n",
       "\n",
       "                                                   4  \n",
       "0                                                 \\n  \n",
       "1      \\n\\twheels: some Wheel,\\n\\tisdeflated: Bool\\n  \n",
       "2  \\n\\tname: String,\\n\\tage: Int, \\n\\tcars: some ...  \n",
       "3                                \\n\\tcars: one Car\\n  "
      ]
     },
     "execution_count": 370,
     "metadata": {},
     "output_type": "execute_result"
    }
   ],
   "source": [
    "pd.DataFrame(sigs)"
   ]
  },
  {
   "cell_type": "code",
   "execution_count": 371,
   "metadata": {},
   "outputs": [
    {
     "data": {
      "text/plain": [
       "['Vehicle', 'Car', 'Person', 'Wheel']"
      ]
     },
     "execution_count": 371,
     "metadata": {},
     "output_type": "execute_result"
    }
   ],
   "source": [
    "classNames = [s[2] for s in sigs]\n",
    "classNames"
   ]
  },
  {
   "cell_type": "code",
   "execution_count": 372,
   "metadata": {},
   "outputs": [],
   "source": [
    "classes = []\n",
    "for s in sigs:\n",
    "    features = re.findall('(\\w*)\\s*:\\s*(one|some|lone)?\\s*(\\w*)', s[4])\n",
    "    c = {\n",
    "        'name': s[2], \n",
    "        'isAbstract': 'abstract' in s[0:2],\n",
    "        'extends': s[3],\n",
    "        'features': [],\n",
    "        'associations': []\n",
    "     }\n",
    "    for f in features:\n",
    "        if(f[2] in classNames):\n",
    "            c['associations'].append({\n",
    "            'name': f[0],\n",
    "            'arity': f[1],\n",
    "            'target': f[2] \n",
    "            })\n",
    "        else:\n",
    "            c['features'].append({\n",
    "                'name': f[0],\n",
    "                'arity': f[1],\n",
    "                'type': f[2] \n",
    "            })\n",
    "    classes.append(c)"
   ]
  },
  {
   "cell_type": "code",
   "execution_count": 373,
   "metadata": {},
   "outputs": [
    {
     "data": {
      "text/plain": [
       "[{'name': 'Vehicle',\n",
       "  'isAbstract': True,\n",
       "  'extends': '',\n",
       "  'features': [],\n",
       "  'associations': []},\n",
       " {'name': 'Car',\n",
       "  'isAbstract': False,\n",
       "  'extends': 'Vehicle',\n",
       "  'features': [{'name': 'isdeflated', 'arity': '', 'type': 'Bool'}],\n",
       "  'associations': [{'name': 'wheels', 'arity': 'some', 'target': 'Wheel'}]},\n",
       " {'name': 'Person',\n",
       "  'isAbstract': False,\n",
       "  'extends': '',\n",
       "  'features': [{'name': 'name', 'arity': '', 'type': 'String'},\n",
       "   {'name': 'age', 'arity': '', 'type': 'Int'}],\n",
       "  'associations': [{'name': 'cars', 'arity': 'some', 'target': 'Car'}]},\n",
       " {'name': 'Wheel',\n",
       "  'isAbstract': False,\n",
       "  'extends': '',\n",
       "  'features': [],\n",
       "  'associations': [{'name': 'cars', 'arity': 'one', 'target': 'Car'}]}]"
      ]
     },
     "execution_count": 373,
     "metadata": {},
     "output_type": "execute_result"
    }
   ],
   "source": [
    "classes"
   ]
  },
  {
   "cell_type": "code",
   "execution_count": 374,
   "metadata": {},
   "outputs": [
    {
     "data": {
      "text/html": [
       "<div>\n",
       "<style scoped>\n",
       "    .dataframe tbody tr th:only-of-type {\n",
       "        vertical-align: middle;\n",
       "    }\n",
       "\n",
       "    .dataframe tbody tr th {\n",
       "        vertical-align: top;\n",
       "    }\n",
       "\n",
       "    .dataframe thead th {\n",
       "        text-align: right;\n",
       "    }\n",
       "</style>\n",
       "<table border=\"1\" class=\"dataframe\">\n",
       "  <thead>\n",
       "    <tr style=\"text-align: right;\">\n",
       "      <th></th>\n",
       "      <th>name</th>\n",
       "      <th>isAbstract</th>\n",
       "      <th>extends</th>\n",
       "      <th>features</th>\n",
       "      <th>associations</th>\n",
       "    </tr>\n",
       "  </thead>\n",
       "  <tbody>\n",
       "    <tr>\n",
       "      <th>0</th>\n",
       "      <td>Vehicle</td>\n",
       "      <td>True</td>\n",
       "      <td></td>\n",
       "      <td>[]</td>\n",
       "      <td>[]</td>\n",
       "    </tr>\n",
       "    <tr>\n",
       "      <th>1</th>\n",
       "      <td>Car</td>\n",
       "      <td>False</td>\n",
       "      <td>Vehicle</td>\n",
       "      <td>[{'name': 'isdeflated', 'arity': '', 'type': '...</td>\n",
       "      <td>[{'name': 'wheels', 'arity': 'some', 'target':...</td>\n",
       "    </tr>\n",
       "    <tr>\n",
       "      <th>2</th>\n",
       "      <td>Person</td>\n",
       "      <td>False</td>\n",
       "      <td></td>\n",
       "      <td>[{'name': 'name', 'arity': '', 'type': 'String...</td>\n",
       "      <td>[{'name': 'cars', 'arity': 'some', 'target': '...</td>\n",
       "    </tr>\n",
       "    <tr>\n",
       "      <th>3</th>\n",
       "      <td>Wheel</td>\n",
       "      <td>False</td>\n",
       "      <td></td>\n",
       "      <td>[]</td>\n",
       "      <td>[{'name': 'cars', 'arity': 'one', 'target': 'C...</td>\n",
       "    </tr>\n",
       "  </tbody>\n",
       "</table>\n",
       "</div>"
      ],
      "text/plain": [
       "      name  isAbstract  extends  \\\n",
       "0  Vehicle        True            \n",
       "1      Car       False  Vehicle   \n",
       "2   Person       False            \n",
       "3    Wheel       False            \n",
       "\n",
       "                                            features  \\\n",
       "0                                                 []   \n",
       "1  [{'name': 'isdeflated', 'arity': '', 'type': '...   \n",
       "2  [{'name': 'name', 'arity': '', 'type': 'String...   \n",
       "3                                                 []   \n",
       "\n",
       "                                        associations  \n",
       "0                                                 []  \n",
       "1  [{'name': 'wheels', 'arity': 'some', 'target':...  \n",
       "2  [{'name': 'cars', 'arity': 'some', 'target': '...  \n",
       "3  [{'name': 'cars', 'arity': 'one', 'target': 'C...  "
      ]
     },
     "metadata": {},
     "output_type": "display_data"
    },
    {
     "data": {
      "text/html": [
       "<div>\n",
       "<style scoped>\n",
       "    .dataframe tbody tr th:only-of-type {\n",
       "        vertical-align: middle;\n",
       "    }\n",
       "\n",
       "    .dataframe tbody tr th {\n",
       "        vertical-align: top;\n",
       "    }\n",
       "\n",
       "    .dataframe thead th {\n",
       "        text-align: right;\n",
       "    }\n",
       "</style>\n",
       "<table border=\"1\" class=\"dataframe\">\n",
       "  <thead>\n",
       "    <tr style=\"text-align: right;\">\n",
       "      <th></th>\n",
       "    </tr>\n",
       "  </thead>\n",
       "  <tbody>\n",
       "  </tbody>\n",
       "</table>\n",
       "</div>"
      ],
      "text/plain": [
       "Empty DataFrame\n",
       "Columns: []\n",
       "Index: []"
      ]
     },
     "metadata": {},
     "output_type": "display_data"
    },
    {
     "data": {
      "text/html": [
       "<div>\n",
       "<style scoped>\n",
       "    .dataframe tbody tr th:only-of-type {\n",
       "        vertical-align: middle;\n",
       "    }\n",
       "\n",
       "    .dataframe tbody tr th {\n",
       "        vertical-align: top;\n",
       "    }\n",
       "\n",
       "    .dataframe thead th {\n",
       "        text-align: right;\n",
       "    }\n",
       "</style>\n",
       "<table border=\"1\" class=\"dataframe\">\n",
       "  <thead>\n",
       "    <tr style=\"text-align: right;\">\n",
       "      <th></th>\n",
       "    </tr>\n",
       "  </thead>\n",
       "  <tbody>\n",
       "  </tbody>\n",
       "</table>\n",
       "</div>"
      ],
      "text/plain": [
       "Empty DataFrame\n",
       "Columns: []\n",
       "Index: []"
      ]
     },
     "metadata": {},
     "output_type": "display_data"
    },
    {
     "data": {
      "text/html": [
       "<div>\n",
       "<style scoped>\n",
       "    .dataframe tbody tr th:only-of-type {\n",
       "        vertical-align: middle;\n",
       "    }\n",
       "\n",
       "    .dataframe tbody tr th {\n",
       "        vertical-align: top;\n",
       "    }\n",
       "\n",
       "    .dataframe thead th {\n",
       "        text-align: right;\n",
       "    }\n",
       "</style>\n",
       "<table border=\"1\" class=\"dataframe\">\n",
       "  <thead>\n",
       "    <tr style=\"text-align: right;\">\n",
       "      <th></th>\n",
       "      <th>name</th>\n",
       "      <th>arity</th>\n",
       "      <th>type</th>\n",
       "    </tr>\n",
       "  </thead>\n",
       "  <tbody>\n",
       "    <tr>\n",
       "      <th>0</th>\n",
       "      <td>isdeflated</td>\n",
       "      <td></td>\n",
       "      <td>Bool</td>\n",
       "    </tr>\n",
       "  </tbody>\n",
       "</table>\n",
       "</div>"
      ],
      "text/plain": [
       "         name arity  type\n",
       "0  isdeflated        Bool"
      ]
     },
     "metadata": {},
     "output_type": "display_data"
    },
    {
     "data": {
      "text/html": [
       "<div>\n",
       "<style scoped>\n",
       "    .dataframe tbody tr th:only-of-type {\n",
       "        vertical-align: middle;\n",
       "    }\n",
       "\n",
       "    .dataframe tbody tr th {\n",
       "        vertical-align: top;\n",
       "    }\n",
       "\n",
       "    .dataframe thead th {\n",
       "        text-align: right;\n",
       "    }\n",
       "</style>\n",
       "<table border=\"1\" class=\"dataframe\">\n",
       "  <thead>\n",
       "    <tr style=\"text-align: right;\">\n",
       "      <th></th>\n",
       "      <th>name</th>\n",
       "      <th>arity</th>\n",
       "      <th>target</th>\n",
       "    </tr>\n",
       "  </thead>\n",
       "  <tbody>\n",
       "    <tr>\n",
       "      <th>0</th>\n",
       "      <td>wheels</td>\n",
       "      <td>some</td>\n",
       "      <td>Wheel</td>\n",
       "    </tr>\n",
       "  </tbody>\n",
       "</table>\n",
       "</div>"
      ],
      "text/plain": [
       "     name arity target\n",
       "0  wheels  some  Wheel"
      ]
     },
     "metadata": {},
     "output_type": "display_data"
    },
    {
     "data": {
      "text/html": [
       "<div>\n",
       "<style scoped>\n",
       "    .dataframe tbody tr th:only-of-type {\n",
       "        vertical-align: middle;\n",
       "    }\n",
       "\n",
       "    .dataframe tbody tr th {\n",
       "        vertical-align: top;\n",
       "    }\n",
       "\n",
       "    .dataframe thead th {\n",
       "        text-align: right;\n",
       "    }\n",
       "</style>\n",
       "<table border=\"1\" class=\"dataframe\">\n",
       "  <thead>\n",
       "    <tr style=\"text-align: right;\">\n",
       "      <th></th>\n",
       "      <th>name</th>\n",
       "      <th>arity</th>\n",
       "      <th>type</th>\n",
       "    </tr>\n",
       "  </thead>\n",
       "  <tbody>\n",
       "    <tr>\n",
       "      <th>0</th>\n",
       "      <td>name</td>\n",
       "      <td></td>\n",
       "      <td>String</td>\n",
       "    </tr>\n",
       "    <tr>\n",
       "      <th>1</th>\n",
       "      <td>age</td>\n",
       "      <td></td>\n",
       "      <td>Int</td>\n",
       "    </tr>\n",
       "  </tbody>\n",
       "</table>\n",
       "</div>"
      ],
      "text/plain": [
       "   name arity    type\n",
       "0  name        String\n",
       "1   age           Int"
      ]
     },
     "metadata": {},
     "output_type": "display_data"
    },
    {
     "data": {
      "text/html": [
       "<div>\n",
       "<style scoped>\n",
       "    .dataframe tbody tr th:only-of-type {\n",
       "        vertical-align: middle;\n",
       "    }\n",
       "\n",
       "    .dataframe tbody tr th {\n",
       "        vertical-align: top;\n",
       "    }\n",
       "\n",
       "    .dataframe thead th {\n",
       "        text-align: right;\n",
       "    }\n",
       "</style>\n",
       "<table border=\"1\" class=\"dataframe\">\n",
       "  <thead>\n",
       "    <tr style=\"text-align: right;\">\n",
       "      <th></th>\n",
       "      <th>name</th>\n",
       "      <th>arity</th>\n",
       "      <th>target</th>\n",
       "    </tr>\n",
       "  </thead>\n",
       "  <tbody>\n",
       "    <tr>\n",
       "      <th>0</th>\n",
       "      <td>cars</td>\n",
       "      <td>some</td>\n",
       "      <td>Car</td>\n",
       "    </tr>\n",
       "  </tbody>\n",
       "</table>\n",
       "</div>"
      ],
      "text/plain": [
       "   name arity target\n",
       "0  cars  some    Car"
      ]
     },
     "metadata": {},
     "output_type": "display_data"
    },
    {
     "data": {
      "text/html": [
       "<div>\n",
       "<style scoped>\n",
       "    .dataframe tbody tr th:only-of-type {\n",
       "        vertical-align: middle;\n",
       "    }\n",
       "\n",
       "    .dataframe tbody tr th {\n",
       "        vertical-align: top;\n",
       "    }\n",
       "\n",
       "    .dataframe thead th {\n",
       "        text-align: right;\n",
       "    }\n",
       "</style>\n",
       "<table border=\"1\" class=\"dataframe\">\n",
       "  <thead>\n",
       "    <tr style=\"text-align: right;\">\n",
       "      <th></th>\n",
       "    </tr>\n",
       "  </thead>\n",
       "  <tbody>\n",
       "  </tbody>\n",
       "</table>\n",
       "</div>"
      ],
      "text/plain": [
       "Empty DataFrame\n",
       "Columns: []\n",
       "Index: []"
      ]
     },
     "metadata": {},
     "output_type": "display_data"
    },
    {
     "data": {
      "text/html": [
       "<div>\n",
       "<style scoped>\n",
       "    .dataframe tbody tr th:only-of-type {\n",
       "        vertical-align: middle;\n",
       "    }\n",
       "\n",
       "    .dataframe tbody tr th {\n",
       "        vertical-align: top;\n",
       "    }\n",
       "\n",
       "    .dataframe thead th {\n",
       "        text-align: right;\n",
       "    }\n",
       "</style>\n",
       "<table border=\"1\" class=\"dataframe\">\n",
       "  <thead>\n",
       "    <tr style=\"text-align: right;\">\n",
       "      <th></th>\n",
       "      <th>name</th>\n",
       "      <th>arity</th>\n",
       "      <th>target</th>\n",
       "    </tr>\n",
       "  </thead>\n",
       "  <tbody>\n",
       "    <tr>\n",
       "      <th>0</th>\n",
       "      <td>cars</td>\n",
       "      <td>one</td>\n",
       "      <td>Car</td>\n",
       "    </tr>\n",
       "  </tbody>\n",
       "</table>\n",
       "</div>"
      ],
      "text/plain": [
       "   name arity target\n",
       "0  cars   one    Car"
      ]
     },
     "metadata": {},
     "output_type": "display_data"
    }
   ],
   "source": [
    "display(pd.DataFrame(classes))\n",
    "for c in classes:\n",
    "    display(pd.DataFrame(c['features']))\n",
    "    display(pd.DataFrame(c['associations']))"
   ]
  },
  {
   "cell_type": "code",
   "execution_count": 375,
   "metadata": {},
   "outputs": [],
   "source": [
    "# cd output: classes + attributes\n",
    "classesStr = ''\n",
    "\n",
    "for c in classes:\n",
    "    line = '\\t{abstract}class {className}{extends}'.format(abstract='abstract ' if c['isAbstract'] else '', \n",
    "                                                           className=c['name'], \n",
    "                                                           extends = '' if (c['extends']=='') else (' extends '+c['extends']))\n",
    "#     if not(c in fields.keys()):\n",
    "#         classesStr+=(line+';\\n')\n",
    "#         continue\n",
    "    fieldsTxt = ''\n",
    "    for f in c['features']:\n",
    "        fieldsTxt+= f' {f[\"type\"]} {f[\"name\"]}; '\n",
    "        \n",
    "    line+= f' {{{fieldsTxt}}}'\n",
    "\n",
    "    classesStr+= (line+'\\n')"
   ]
  },
  {
   "cell_type": "code",
   "execution_count": 376,
   "metadata": {},
   "outputs": [
    {
     "name": "stdout",
     "output_type": "stream",
     "text": [
      "\tabstract class Vehicle {}\n",
      "\tclass Car extends Vehicle { Bool isdeflated; }\n",
      "\tclass Person { String name;  Int age; }\n",
      "\tclass Wheel {}\n",
      "\n"
     ]
    }
   ],
   "source": [
    "print(classesStr)"
   ]
  },
  {
   "cell_type": "code",
   "execution_count": 377,
   "metadata": {},
   "outputs": [
    {
     "data": {
      "text/plain": [
       "[{'name': 'wheels',\n",
       "  'arity': 'some',\n",
       "  'target': 'Wheel',\n",
       "  'source': 'Car',\n",
       "  'arity2': 'one',\n",
       "  'type': '--'},\n",
       " {'name': 'cars',\n",
       "  'arity': 'some',\n",
       "  'target': 'Car',\n",
       "  'source': 'Person',\n",
       "  'arity2': '-',\n",
       "  'type': '->'}]"
      ]
     },
     "execution_count": 377,
     "metadata": {},
     "output_type": "execute_result"
    }
   ],
   "source": [
    "# associations\n",
    "associations = []\n",
    "\n",
    "for c in classes:\n",
    "    for a in c['associations']:\n",
    "        a['source'] = c['name']\n",
    "        a['arity2'] = '-'\n",
    "        b = False\n",
    "        for rel in associations:\n",
    "            if rel['source']==a['target'] and a['source']==rel['target']:\n",
    "                rel['type'] = '--'\n",
    "                rel['arity2'] = a['arity']\n",
    "                b = True\n",
    "                break\n",
    "        if not b:\n",
    "            a['type'] = '->'\n",
    "            associations.append(a)\n",
    "associations"
   ]
  },
  {
   "cell_type": "code",
   "execution_count": 378,
   "metadata": {},
   "outputs": [],
   "source": [
    "associationsStr = ''\n",
    "\n",
    "def get_arity(argument):\n",
    "    switcher = {\n",
    "        '': '[0..*]',\n",
    "        'some': '[1..*]',\n",
    "        'one': '[1..1]',\n",
    "        'lone': '[0..1]'\n",
    "    }\n",
    "    return switcher.get(argument, '')\n",
    "\n",
    "for a in associations:\n",
    "#     association WorkPlace [1] Employee (of) -> (worksIn) Address [1..3];\n",
    "    name = a['name']\n",
    "    arity = get_arity(a['arity'])\n",
    "    arity2 = get_arity(a['arity2'])\n",
    "    src = a['source']\n",
    "    tgt = a['target']\n",
    "    atype = a['type']\n",
    "    associationsStr += f'\\tassociation {name} {src} {arity2} {atype} {tgt} {arity};\\n'"
   ]
  },
  {
   "cell_type": "code",
   "execution_count": 379,
   "metadata": {},
   "outputs": [
    {
     "name": "stdout",
     "output_type": "stream",
     "text": [
      "\tassociation wheels Car [1..1] -- Wheel [1..*];\n",
      "\tassociation cars Person  -> Car [1..*];\n",
      "\n"
     ]
    }
   ],
   "source": [
    "print(associationsStr)"
   ]
  },
  {
   "cell_type": "code",
   "execution_count": 380,
   "metadata": {},
   "outputs": [],
   "source": [
    "output = f\"\"\"\n",
    "package alloy2cd;\n",
    "\n",
    "classdiagram {module} {{\n",
    "\n",
    "{classesStr}\n",
    "\n",
    "{associationsStr}\n",
    "  \n",
    "}}\n",
    "\n",
    "\"\"\""
   ]
  },
  {
   "cell_type": "code",
   "execution_count": 381,
   "metadata": {},
   "outputs": [
    {
     "name": "stdout",
     "output_type": "stream",
     "text": [
      "\n",
      "package alloy2cd;\n",
      "\n",
      "classdiagram alloy2cd {\n",
      "\n",
      "\tabstract class Vehicle {}\n",
      "\tclass Car extends Vehicle { Bool isdeflated; }\n",
      "\tclass Person { String name;  Int age; }\n",
      "\tclass Wheel {}\n",
      "\n",
      "\n",
      "\tassociation wheels Car [1..1] -- Wheel [1..*];\n",
      "\tassociation cars Person  -> Car [1..*];\n",
      "\n",
      "  \n",
      "}\n",
      "\n",
      "\n"
     ]
    }
   ],
   "source": [
    "# print(lines)\n",
    "# print('************************************************************')\n",
    "print(output)"
   ]
  },
  {
   "cell_type": "code",
   "execution_count": null,
   "metadata": {},
   "outputs": [],
   "source": []
  },
  {
   "cell_type": "code",
   "execution_count": null,
   "metadata": {},
   "outputs": [],
   "source": []
  }
 ],
 "metadata": {
  "kernelspec": {
   "display_name": "Python 3",
   "language": "python",
   "name": "python3"
  },
  "language_info": {
   "codemirror_mode": {
    "name": "ipython",
    "version": 3
   },
   "file_extension": ".py",
   "mimetype": "text/x-python",
   "name": "python",
   "nbconvert_exporter": "python",
   "pygments_lexer": "ipython3",
   "version": "3.8.5"
  }
 },
 "nbformat": 4,
 "nbformat_minor": 4
}
