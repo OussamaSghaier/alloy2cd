{
 "cells": [
  {
   "cell_type": "markdown",
   "metadata": {},
   "source": [
    "# 1- "
   ]
  },
  {
   "cell_type": "code",
   "execution_count": 53,
   "metadata": {},
   "outputs": [],
   "source": [
    "#XML library\n",
    "import xml.etree.ElementTree as ET"
   ]
  },
  {
   "cell_type": "code",
   "execution_count": 77,
   "metadata": {},
   "outputs": [],
   "source": [
    "#get the root element\n",
    "root = ET.parse('generatedInstance-1.xml').getroot()"
   ]
  },
  {
   "cell_type": "code",
   "execution_count": 78,
   "metadata": {},
   "outputs": [
    {
     "name": "stderr",
     "output_type": "stream",
     "text": [
      "c:\\users\\oussama\\appdata\\local\\programs\\python\\python37\\lib\\site-packages\\ipykernel_launcher.py:2: DeprecationWarning: This method will be removed in future versions.  Use 'list(elem)' or iteration over elem instead.\n",
      "  \n"
     ]
    }
   ],
   "source": [
    "# get last class diagram\n",
    "cds = [e for e in root.findall('instance/sig') if e.attrib['label']=='this/CD'][0]\n",
    "lastCD = cds.getchildren()[-1].attrib['label']"
   ]
  },
  {
   "cell_type": "code",
   "execution_count": 79,
   "metadata": {},
   "outputs": [
    {
     "name": "stderr",
     "output_type": "stream",
     "text": [
      "c:\\users\\oussama\\appdata\\local\\programs\\python\\python37\\lib\\site-packages\\ipykernel_launcher.py:1: DeprecationWarning: This method will be removed in future versions.  Use 'list(elem)' or iteration over elem instead.\n",
      "  \"\"\"Entry point for launching an IPython kernel.\n",
      "c:\\users\\oussama\\appdata\\local\\programs\\python\\python37\\lib\\site-packages\\ipykernel_launcher.py:3: DeprecationWarning: This method will be removed in future versions.  Use 'list(elem)' or iteration over elem instead.\n",
      "  This is separate from the ipykernel package so we can avoid doing imports until\n"
     ]
    }
   ],
   "source": [
    "# get the list of classes\n",
    "classes = [c for c in root.findall('instance/field') if c.attrib['label']=='classes'][0].getchildren()[:-1]\n",
    "classNames = [c.getchildren()[1].attrib['label'] for c in classes\n",
    "             if c.getchildren()[0].attrib['label']==lastCD]"
   ]
  },
  {
   "cell_type": "code",
   "execution_count": 85,
   "metadata": {},
   "outputs": [
    {
     "name": "stderr",
     "output_type": "stream",
     "text": [
      "c:\\users\\oussama\\appdata\\local\\programs\\python\\python37\\lib\\site-packages\\ipykernel_launcher.py:2: DeprecationWarning: This method will be removed in future versions.  Use 'list(elem)' or iteration over elem instead.\n",
      "  \n",
      "c:\\users\\oussama\\appdata\\local\\programs\\python\\python37\\lib\\site-packages\\ipykernel_launcher.py:5: DeprecationWarning: This method will be removed in future versions.  Use 'list(elem)' or iteration over elem instead.\n",
      "  \"\"\"\n"
     ]
    }
   ],
   "source": [
    "# get the list of fields\n",
    "fieldsElem = [c for c in root.findall('instance/field') if c.attrib['label']=='features'][0].getchildren()[:-1]\n",
    "fields = {}\n",
    "for fe in fieldsElem:\n",
    "    ch = fe.getchildren()\n",
    "    if ch[0].attrib['label'] == lastCD:\n",
    "        c = ch[1].attrib['label'] \n",
    "        f = ch[2].attrib['label'] \n",
    "        t = ch[3].attrib['label']\n",
    "        if c in fields.keys():\n",
    "            fields[c].append({\n",
    "                'fieldName': f,\n",
    "                'fieldType': t.split('type_')[1]\n",
    "            })\n",
    "        else:\n",
    "            fields[c] = [{\n",
    "                'fieldName': f,\n",
    "                'fieldType': t.split('type_')[1]\n",
    "            }]\n",
    "            "
   ]
  },
  {
   "cell_type": "code",
   "execution_count": 95,
   "metadata": {},
   "outputs": [],
   "source": [
    "# get the module name\n",
    "module = [e for e in root.findall('source')][0].attrib['content'].split('module')[1].split('\\n')[0].strip()"
   ]
  },
  {
   "cell_type": "code",
   "execution_count": 120,
   "metadata": {},
   "outputs": [],
   "source": [
    "# output: alloy2cd\n",
    "classesStr = ''\n",
    "for c in classNames:\n",
    "    line = '\\tclass {className}'.format(className=c.split('$')[0])\n",
    "    if not(c in fields.keys()):\n",
    "        classesStr+=(line+';\\n')\n",
    "        continue\n",
    "    fieldsTxt = ''\n",
    "    for f in fields[c]:\n",
    "        fieldsTxt+= f'{f[\"fieldType\"].split(\"$\")[0]} {f[\"fieldName\"].split(\"$\")[0]};'\n",
    "        \n",
    "    line+= f'{{{fieldsTxt}}}'\n",
    "\n",
    "    classesStr+= (line+'\\n')"
   ]
  },
  {
   "cell_type": "code",
   "execution_count": 121,
   "metadata": {},
   "outputs": [
    {
     "data": {
      "text/plain": [
       "'\\tclass Unit{int health;}\\n\\tclass Tank;\\n\\tclass Soldier;\\n'"
      ]
     },
     "execution_count": 121,
     "metadata": {},
     "output_type": "execute_result"
    }
   ],
   "source": [
    "classesStr"
   ]
  },
  {
   "cell_type": "code",
   "execution_count": 130,
   "metadata": {},
   "outputs": [],
   "source": [
    "output = f\"\"\"\n",
    "package alloy2cd.refactoring;\n",
    "\n",
    "classdiagram {module} {{0;\n",
    "\n",
    "{classesStr}\n",
    "  \n",
    "}}\n",
    "\n",
    "\"\"\""
   ]
  },
  {
   "cell_type": "code",
   "execution_count": 131,
   "metadata": {},
   "outputs": [
    {
     "name": "stdout",
     "output_type": "stream",
     "text": [
      "\n",
      "package alloy2cd.refactoring;\n",
      "\n",
      "classdiagram umlp2alloy/CD2Alloy4CDModule {\n",
      "\n",
      "\tclass Unit{int health;}\n",
      "\tclass Tank;\n",
      "\tclass Soldier;\n",
      "\n",
      "  \n",
      "}\n",
      "\n",
      "\n"
     ]
    }
   ],
   "source": [
    "print(output)"
   ]
  },
  {
   "cell_type": "code",
   "execution_count": 137,
   "metadata": {},
   "outputs": [],
   "source": [
    "# Write output to file\n",
    "path = r'D:\\Eclipse\\eclipse-epsilon-1.5-win32-x86_64\\eclipse\\workspace\\SoftwareAnalysisProject\\resources\\Alloy2CdRefactored.cd'\n",
    "file = open(path, \"w\")\n",
    "file.write(output)\n",
    "file.close()"
   ]
  },
  {
   "cell_type": "code",
   "execution_count": null,
   "metadata": {},
   "outputs": [],
   "source": []
  },
  {
   "cell_type": "markdown",
   "metadata": {},
   "source": [
    "# 2- "
   ]
  },
  {
   "cell_type": "code",
   "execution_count": null,
   "metadata": {},
   "outputs": [],
   "source": []
  }
 ],
 "metadata": {
  "kernelspec": {
   "display_name": "Python 3",
   "language": "python",
   "name": "python3"
  },
  "language_info": {
   "codemirror_mode": {
    "name": "ipython",
    "version": 3
   },
   "file_extension": ".py",
   "mimetype": "text/x-python",
   "name": "python",
   "nbconvert_exporter": "python",
   "pygments_lexer": "ipython3",
   "version": "3.8.5"
  }
 },
 "nbformat": 4,
 "nbformat_minor": 4
}
